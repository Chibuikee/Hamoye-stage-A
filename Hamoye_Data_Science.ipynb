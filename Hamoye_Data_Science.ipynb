{
 "cells": [
  {
   "cell_type": "code",
   "execution_count": 1,
   "metadata": {},
   "outputs": [],
   "source": [
    "import pandas as pd"
   ]
  },
  {
   "cell_type": "code",
   "execution_count": 2,
   "metadata": {},
   "outputs": [],
   "source": [
    "import numpy as np"
   ]
  },
  {
   "cell_type": "code",
   "execution_count": 3,
   "metadata": {},
   "outputs": [],
   "source": [
    "hamoye=pd.read_csv(\"StageA_data.csv\")"
   ]
  },
  {
   "cell_type": "code",
   "execution_count": 4,
   "metadata": {},
   "outputs": [
    {
     "data": {
      "text/html": [
       "<div>\n",
       "<style scoped>\n",
       "    .dataframe tbody tr th:only-of-type {\n",
       "        vertical-align: middle;\n",
       "    }\n",
       "\n",
       "    .dataframe tbody tr th {\n",
       "        vertical-align: top;\n",
       "    }\n",
       "\n",
       "    .dataframe thead th {\n",
       "        text-align: right;\n",
       "    }\n",
       "</style>\n",
       "<table border=\"1\" class=\"dataframe\">\n",
       "  <thead>\n",
       "    <tr style=\"text-align: right;\">\n",
       "      <th></th>\n",
       "      <th>Unnamed: 0</th>\n",
       "      <th>record_id</th>\n",
       "      <th>utility_id_ferc1</th>\n",
       "      <th>report_year</th>\n",
       "      <th>plant_name_ferc1</th>\n",
       "      <th>fuel_type_code_pudl</th>\n",
       "      <th>fuel_unit</th>\n",
       "      <th>fuel_qty_burned</th>\n",
       "      <th>fuel_mmbtu_per_unit</th>\n",
       "      <th>fuel_cost_per_unit_burned</th>\n",
       "      <th>fuel_cost_per_unit_delivered</th>\n",
       "      <th>fuel_cost_per_mmbtu</th>\n",
       "    </tr>\n",
       "  </thead>\n",
       "  <tbody>\n",
       "    <tr>\n",
       "      <th>0</th>\n",
       "      <td>0</td>\n",
       "      <td>f1_fuel_1994_12_1_0_7</td>\n",
       "      <td>1</td>\n",
       "      <td>1994</td>\n",
       "      <td>rockport</td>\n",
       "      <td>coal</td>\n",
       "      <td>ton</td>\n",
       "      <td>5377489.0</td>\n",
       "      <td>16.590</td>\n",
       "      <td>18.59</td>\n",
       "      <td>18.53</td>\n",
       "      <td>1.121</td>\n",
       "    </tr>\n",
       "    <tr>\n",
       "      <th>1</th>\n",
       "      <td>1</td>\n",
       "      <td>f1_fuel_1994_12_1_0_10</td>\n",
       "      <td>1</td>\n",
       "      <td>1994</td>\n",
       "      <td>rockport total plant</td>\n",
       "      <td>coal</td>\n",
       "      <td>ton</td>\n",
       "      <td>10486945.0</td>\n",
       "      <td>16.592</td>\n",
       "      <td>18.58</td>\n",
       "      <td>18.53</td>\n",
       "      <td>1.120</td>\n",
       "    </tr>\n",
       "    <tr>\n",
       "      <th>2</th>\n",
       "      <td>2</td>\n",
       "      <td>f1_fuel_1994_12_2_0_1</td>\n",
       "      <td>2</td>\n",
       "      <td>1994</td>\n",
       "      <td>gorgas</td>\n",
       "      <td>coal</td>\n",
       "      <td>ton</td>\n",
       "      <td>2978683.0</td>\n",
       "      <td>24.130</td>\n",
       "      <td>39.72</td>\n",
       "      <td>38.12</td>\n",
       "      <td>1.650</td>\n",
       "    </tr>\n",
       "    <tr>\n",
       "      <th>3</th>\n",
       "      <td>3</td>\n",
       "      <td>f1_fuel_1994_12_2_0_7</td>\n",
       "      <td>2</td>\n",
       "      <td>1994</td>\n",
       "      <td>barry</td>\n",
       "      <td>coal</td>\n",
       "      <td>ton</td>\n",
       "      <td>3739484.0</td>\n",
       "      <td>23.950</td>\n",
       "      <td>47.21</td>\n",
       "      <td>45.99</td>\n",
       "      <td>1.970</td>\n",
       "    </tr>\n",
       "    <tr>\n",
       "      <th>4</th>\n",
       "      <td>4</td>\n",
       "      <td>f1_fuel_1994_12_2_0_10</td>\n",
       "      <td>2</td>\n",
       "      <td>1994</td>\n",
       "      <td>chickasaw</td>\n",
       "      <td>gas</td>\n",
       "      <td>mcf</td>\n",
       "      <td>40533.0</td>\n",
       "      <td>1.000</td>\n",
       "      <td>2.77</td>\n",
       "      <td>2.77</td>\n",
       "      <td>2.570</td>\n",
       "    </tr>\n",
       "  </tbody>\n",
       "</table>\n",
       "</div>"
      ],
      "text/plain": [
       "   Unnamed: 0               record_id  utility_id_ferc1  report_year  \\\n",
       "0           0   f1_fuel_1994_12_1_0_7                 1         1994   \n",
       "1           1  f1_fuel_1994_12_1_0_10                 1         1994   \n",
       "2           2   f1_fuel_1994_12_2_0_1                 2         1994   \n",
       "3           3   f1_fuel_1994_12_2_0_7                 2         1994   \n",
       "4           4  f1_fuel_1994_12_2_0_10                 2         1994   \n",
       "\n",
       "       plant_name_ferc1 fuel_type_code_pudl fuel_unit  fuel_qty_burned  \\\n",
       "0              rockport                coal       ton        5377489.0   \n",
       "1  rockport total plant                coal       ton       10486945.0   \n",
       "2                gorgas                coal       ton        2978683.0   \n",
       "3                 barry                coal       ton        3739484.0   \n",
       "4             chickasaw                 gas       mcf          40533.0   \n",
       "\n",
       "   fuel_mmbtu_per_unit  fuel_cost_per_unit_burned  \\\n",
       "0               16.590                      18.59   \n",
       "1               16.592                      18.58   \n",
       "2               24.130                      39.72   \n",
       "3               23.950                      47.21   \n",
       "4                1.000                       2.77   \n",
       "\n",
       "   fuel_cost_per_unit_delivered  fuel_cost_per_mmbtu  \n",
       "0                         18.53                1.121  \n",
       "1                         18.53                1.120  \n",
       "2                         38.12                1.650  \n",
       "3                         45.99                1.970  \n",
       "4                          2.77                2.570  "
      ]
     },
     "execution_count": 4,
     "metadata": {},
     "output_type": "execute_result"
    }
   ],
   "source": [
    "hamoye.head(5)"
   ]
  },
  {
   "cell_type": "code",
   "execution_count": 6,
   "metadata": {},
   "outputs": [
    {
     "data": {
      "text/plain": [
       "Unnamed: 0                        0\n",
       "record_id                         0\n",
       "utility_id_ferc1                  0\n",
       "report_year                       0\n",
       "plant_name_ferc1                  0\n",
       "fuel_type_code_pudl               0\n",
       "fuel_unit                       180\n",
       "fuel_qty_burned                   0\n",
       "fuel_mmbtu_per_unit               0\n",
       "fuel_cost_per_unit_burned         0\n",
       "fuel_cost_per_unit_delivered      0\n",
       "fuel_cost_per_mmbtu               0\n",
       "dtype: int64"
      ]
     },
     "execution_count": 6,
     "metadata": {},
     "output_type": "execute_result"
    }
   ],
   "source": [
    "hamoye.isnull().sum()"
   ]
  },
  {
   "cell_type": "markdown",
   "metadata": {},
   "source": [
    "# question three"
   ]
  },
  {
   "cell_type": "code",
   "execution_count": 9,
   "metadata": {},
   "outputs": [
    {
     "data": {
      "text/html": [
       "<div>\n",
       "<style scoped>\n",
       "    .dataframe tbody tr th:only-of-type {\n",
       "        vertical-align: middle;\n",
       "    }\n",
       "\n",
       "    .dataframe tbody tr th {\n",
       "        vertical-align: top;\n",
       "    }\n",
       "\n",
       "    .dataframe thead th {\n",
       "        text-align: right;\n",
       "    }\n",
       "</style>\n",
       "<table border=\"1\" class=\"dataframe\">\n",
       "  <thead>\n",
       "    <tr style=\"text-align: right;\">\n",
       "      <th></th>\n",
       "      <th>fuel_qty_burned</th>\n",
       "    </tr>\n",
       "    <tr>\n",
       "      <th>fuel_type_code_pudl</th>\n",
       "      <th></th>\n",
       "    </tr>\n",
       "  </thead>\n",
       "  <tbody>\n",
       "    <tr>\n",
       "      <th>coal</th>\n",
       "      <td>1.903473e+06</td>\n",
       "    </tr>\n",
       "    <tr>\n",
       "      <th>gas</th>\n",
       "      <td>4.843183e+06</td>\n",
       "    </tr>\n",
       "    <tr>\n",
       "      <th>nuclear</th>\n",
       "      <td>5.454838e+06</td>\n",
       "    </tr>\n",
       "    <tr>\n",
       "      <th>oil</th>\n",
       "      <td>6.311677e+04</td>\n",
       "    </tr>\n",
       "    <tr>\n",
       "      <th>other</th>\n",
       "      <td>2.948137e+06</td>\n",
       "    </tr>\n",
       "    <tr>\n",
       "      <th>waste</th>\n",
       "      <td>1.171914e+05</td>\n",
       "    </tr>\n",
       "  </tbody>\n",
       "</table>\n",
       "</div>"
      ],
      "text/plain": [
       "                     fuel_qty_burned\n",
       "fuel_type_code_pudl                 \n",
       "coal                    1.903473e+06\n",
       "gas                     4.843183e+06\n",
       "nuclear                 5.454838e+06\n",
       "oil                     6.311677e+04\n",
       "other                   2.948137e+06\n",
       "waste                   1.171914e+05"
      ]
     },
     "execution_count": 9,
     "metadata": {},
     "output_type": "execute_result"
    }
   ],
   "source": [
    "hamoye[[\"fuel_type_code_pudl\",\"fuel_qty_burned\"]].groupby(\"fuel_type_code_pudl\").mean()"
   ]
  },
  {
   "cell_type": "markdown",
   "metadata": {},
   "source": [
    "# Question one"
   ]
  },
  {
   "cell_type": "code",
   "execution_count": 11,
   "metadata": {},
   "outputs": [],
   "source": [
    "A = [1,2,3,4,5,6]"
   ]
  },
  {
   "cell_type": "code",
   "execution_count": 12,
   "metadata": {},
   "outputs": [],
   "source": [
    "B = [13, 21, 34]"
   ]
  },
  {
   "cell_type": "code",
   "execution_count": 18,
   "metadata": {},
   "outputs": [],
   "source": [
    "A.extend(B)"
   ]
  },
  {
   "cell_type": "code",
   "execution_count": 19,
   "metadata": {},
   "outputs": [
    {
     "data": {
      "text/plain": [
       "[1, 2, 3, 4, 5, 6, [13, 21, 34], 13, 21, 34]"
      ]
     },
     "execution_count": 19,
     "metadata": {},
     "output_type": "execute_result"
    }
   ],
   "source": [
    "A"
   ]
  },
  {
   "cell_type": "code",
   "execution_count": 21,
   "metadata": {},
   "outputs": [],
   "source": [
    "A.append(B)"
   ]
  },
  {
   "cell_type": "code",
   "execution_count": 22,
   "metadata": {},
   "outputs": [
    {
     "data": {
      "text/plain": [
       "[1, 2, 3, 4, 5, 6, [13, 21, 34], 13, 21, 34, [13, 21, 34]]"
      ]
     },
     "execution_count": 22,
     "metadata": {},
     "output_type": "execute_result"
    }
   ],
   "source": [
    "A"
   ]
  },
  {
   "cell_type": "code",
   "execution_count": null,
   "metadata": {},
   "outputs": [],
   "source": [
    "# Question Four"
   ]
  },
  {
   "cell_type": "code",
   "execution_count": 23,
   "metadata": {},
   "outputs": [
    {
     "data": {
      "text/html": [
       "<div>\n",
       "<style scoped>\n",
       "    .dataframe tbody tr th:only-of-type {\n",
       "        vertical-align: middle;\n",
       "    }\n",
       "\n",
       "    .dataframe tbody tr th {\n",
       "        vertical-align: top;\n",
       "    }\n",
       "\n",
       "    .dataframe thead th {\n",
       "        text-align: right;\n",
       "    }\n",
       "</style>\n",
       "<table border=\"1\" class=\"dataframe\">\n",
       "  <thead>\n",
       "    <tr style=\"text-align: right;\">\n",
       "      <th></th>\n",
       "      <th>Unnamed: 0</th>\n",
       "      <th>utility_id_ferc1</th>\n",
       "      <th>report_year</th>\n",
       "      <th>fuel_qty_burned</th>\n",
       "      <th>fuel_mmbtu_per_unit</th>\n",
       "      <th>fuel_cost_per_unit_burned</th>\n",
       "      <th>fuel_cost_per_unit_delivered</th>\n",
       "      <th>fuel_cost_per_mmbtu</th>\n",
       "    </tr>\n",
       "  </thead>\n",
       "  <tbody>\n",
       "    <tr>\n",
       "      <th>count</th>\n",
       "      <td>29523.000000</td>\n",
       "      <td>29523.000000</td>\n",
       "      <td>29523.000000</td>\n",
       "      <td>2.952300e+04</td>\n",
       "      <td>29523.000000</td>\n",
       "      <td>29523.000000</td>\n",
       "      <td>2.952300e+04</td>\n",
       "      <td>29523.000000</td>\n",
       "    </tr>\n",
       "    <tr>\n",
       "      <th>mean</th>\n",
       "      <td>14761.000000</td>\n",
       "      <td>118.601836</td>\n",
       "      <td>2005.806050</td>\n",
       "      <td>2.622119e+06</td>\n",
       "      <td>8.492111</td>\n",
       "      <td>208.649031</td>\n",
       "      <td>9.175704e+02</td>\n",
       "      <td>19.304354</td>\n",
       "    </tr>\n",
       "    <tr>\n",
       "      <th>std</th>\n",
       "      <td>8522.700335</td>\n",
       "      <td>74.178353</td>\n",
       "      <td>7.025483</td>\n",
       "      <td>9.118004e+06</td>\n",
       "      <td>10.600220</td>\n",
       "      <td>2854.490090</td>\n",
       "      <td>6.877593e+04</td>\n",
       "      <td>2091.540939</td>\n",
       "    </tr>\n",
       "    <tr>\n",
       "      <th>min</th>\n",
       "      <td>0.000000</td>\n",
       "      <td>1.000000</td>\n",
       "      <td>1994.000000</td>\n",
       "      <td>1.000000e+00</td>\n",
       "      <td>0.000001</td>\n",
       "      <td>-276.080000</td>\n",
       "      <td>-8.749370e+02</td>\n",
       "      <td>-41.501000</td>\n",
       "    </tr>\n",
       "    <tr>\n",
       "      <th>25%</th>\n",
       "      <td>7380.500000</td>\n",
       "      <td>55.000000</td>\n",
       "      <td>2000.000000</td>\n",
       "      <td>1.381700e+04</td>\n",
       "      <td>1.024000</td>\n",
       "      <td>5.207000</td>\n",
       "      <td>3.778500e+00</td>\n",
       "      <td>1.940000</td>\n",
       "    </tr>\n",
       "    <tr>\n",
       "      <th>50%</th>\n",
       "      <td>14761.000000</td>\n",
       "      <td>122.000000</td>\n",
       "      <td>2006.000000</td>\n",
       "      <td>2.533220e+05</td>\n",
       "      <td>5.762694</td>\n",
       "      <td>26.000000</td>\n",
       "      <td>1.737100e+01</td>\n",
       "      <td>4.127000</td>\n",
       "    </tr>\n",
       "    <tr>\n",
       "      <th>75%</th>\n",
       "      <td>22141.500000</td>\n",
       "      <td>176.000000</td>\n",
       "      <td>2012.000000</td>\n",
       "      <td>1.424034e+06</td>\n",
       "      <td>17.006000</td>\n",
       "      <td>47.113000</td>\n",
       "      <td>4.213700e+01</td>\n",
       "      <td>7.745000</td>\n",
       "    </tr>\n",
       "    <tr>\n",
       "      <th>max</th>\n",
       "      <td>29522.000000</td>\n",
       "      <td>514.000000</td>\n",
       "      <td>2018.000000</td>\n",
       "      <td>5.558942e+08</td>\n",
       "      <td>341.260000</td>\n",
       "      <td>139358.000000</td>\n",
       "      <td>7.964521e+06</td>\n",
       "      <td>359278.000000</td>\n",
       "    </tr>\n",
       "  </tbody>\n",
       "</table>\n",
       "</div>"
      ],
      "text/plain": [
       "         Unnamed: 0  utility_id_ferc1   report_year  fuel_qty_burned  \\\n",
       "count  29523.000000      29523.000000  29523.000000     2.952300e+04   \n",
       "mean   14761.000000        118.601836   2005.806050     2.622119e+06   \n",
       "std     8522.700335         74.178353      7.025483     9.118004e+06   \n",
       "min        0.000000          1.000000   1994.000000     1.000000e+00   \n",
       "25%     7380.500000         55.000000   2000.000000     1.381700e+04   \n",
       "50%    14761.000000        122.000000   2006.000000     2.533220e+05   \n",
       "75%    22141.500000        176.000000   2012.000000     1.424034e+06   \n",
       "max    29522.000000        514.000000   2018.000000     5.558942e+08   \n",
       "\n",
       "       fuel_mmbtu_per_unit  fuel_cost_per_unit_burned  \\\n",
       "count         29523.000000               29523.000000   \n",
       "mean              8.492111                 208.649031   \n",
       "std              10.600220                2854.490090   \n",
       "min               0.000001                -276.080000   \n",
       "25%               1.024000                   5.207000   \n",
       "50%               5.762694                  26.000000   \n",
       "75%              17.006000                  47.113000   \n",
       "max             341.260000              139358.000000   \n",
       "\n",
       "       fuel_cost_per_unit_delivered  fuel_cost_per_mmbtu  \n",
       "count                  2.952300e+04         29523.000000  \n",
       "mean                   9.175704e+02            19.304354  \n",
       "std                    6.877593e+04          2091.540939  \n",
       "min                   -8.749370e+02           -41.501000  \n",
       "25%                    3.778500e+00             1.940000  \n",
       "50%                    1.737100e+01             4.127000  \n",
       "75%                    4.213700e+01             7.745000  \n",
       "max                    7.964521e+06        359278.000000  "
      ]
     },
     "execution_count": 23,
     "metadata": {},
     "output_type": "execute_result"
    }
   ],
   "source": [
    "hamoye.describe()"
   ]
  },
  {
   "cell_type": "markdown",
   "metadata": {},
   "source": [
    "# Question Five"
   ]
  },
  {
   "cell_type": "code",
   "execution_count": 35,
   "metadata": {},
   "outputs": [],
   "source": [
    "a=hamoye[\"fuel_qty_burned\"]"
   ]
  },
  {
   "cell_type": "code",
   "execution_count": 37,
   "metadata": {},
   "outputs": [
    {
     "data": {
      "text/plain": [
       "15.851495469109503"
      ]
     },
     "execution_count": 37,
     "metadata": {},
     "output_type": "execute_result"
    }
   ],
   "source": [
    "a.skew()"
   ]
  },
  {
   "cell_type": "code",
   "execution_count": 38,
   "metadata": {},
   "outputs": [
    {
     "data": {
      "text/plain": [
       "651.3694501337732"
      ]
     },
     "execution_count": 38,
     "metadata": {},
     "output_type": "execute_result"
    }
   ],
   "source": [
    "a.kurtosis()"
   ]
  },
  {
   "cell_type": "code",
   "execution_count": 25,
   "metadata": {},
   "outputs": [
    {
     "data": {
      "text/plain": [
       "Unnamed: 0                        0\n",
       "record_id                         0\n",
       "utility_id_ferc1                  0\n",
       "report_year                       0\n",
       "plant_name_ferc1                  0\n",
       "fuel_type_code_pudl               0\n",
       "fuel_unit                       180\n",
       "fuel_qty_burned                   0\n",
       "fuel_mmbtu_per_unit               0\n",
       "fuel_cost_per_unit_burned         0\n",
       "fuel_cost_per_unit_delivered      0\n",
       "fuel_cost_per_mmbtu               0\n",
       "dtype: int64"
      ]
     },
     "execution_count": 25,
     "metadata": {},
     "output_type": "execute_result"
    }
   ],
   "source": [
    "hamoye.isnull().sum()"
   ]
  },
  {
   "cell_type": "code",
   "execution_count": 59,
   "metadata": {},
   "outputs": [
    {
     "data": {
      "text/plain": [
       "16301.666666666668"
      ]
     },
     "execution_count": 59,
     "metadata": {},
     "output_type": "execute_result"
    }
   ],
   "source": [
    "hamoye[\"fuel_unit\"].count().sum()/180*100"
   ]
  },
  {
   "cell_type": "code",
   "execution_count": null,
   "metadata": {},
   "outputs": [],
   "source": [
    "180"
   ]
  },
  {
   "cell_type": "code",
   "execution_count": 29,
   "metadata": {},
   "outputs": [
    {
     "data": {
      "text/plain": [
       "0        ton\n",
       "1        ton\n",
       "2        ton\n",
       "3        ton\n",
       "4        mcf\n",
       "        ... \n",
       "29518    mcf\n",
       "29519    mcf\n",
       "29520    mcf\n",
       "29521    ton\n",
       "29522    mcf\n",
       "Name: fuel_unit, Length: 29523, dtype: object"
      ]
     },
     "execution_count": 29,
     "metadata": {},
     "output_type": "execute_result"
    }
   ],
   "source": [
    "hamoye[\"fuel_unit\"].fillna(value=\"mcf\")"
   ]
  },
  {
   "cell_type": "code",
   "execution_count": null,
   "metadata": {},
   "outputs": [],
   "source": []
  },
  {
   "cell_type": "markdown",
   "metadata": {},
   "source": [
    "# Question Eight"
   ]
  },
  {
   "cell_type": "code",
   "execution_count": 39,
   "metadata": {},
   "outputs": [],
   "source": [
    "d=hamoye[\"fuel_qty_burned\"]"
   ]
  },
  {
   "cell_type": "code",
   "execution_count": 40,
   "metadata": {},
   "outputs": [],
   "source": [
    "e=hamoye[\"fuel_mmbtu_per_unit\"]"
   ]
  },
  {
   "cell_type": "code",
   "execution_count": 41,
   "metadata": {},
   "outputs": [],
   "source": [
    "f=hamoye[\"fuel_cost_per_unit_burned\"]"
   ]
  },
  {
   "cell_type": "code",
   "execution_count": 42,
   "metadata": {},
   "outputs": [],
   "source": [
    "g=hamoye[\"fuel_cost_per_unit_delivered\"]"
   ]
  },
  {
   "cell_type": "code",
   "execution_count": 43,
   "metadata": {},
   "outputs": [],
   "source": [
    "h=hamoye[\"fuel_cost_per_mmbtu\"]"
   ]
  },
  {
   "cell_type": "code",
   "execution_count": 55,
   "metadata": {},
   "outputs": [
    {
     "data": {
      "text/plain": [
       "-0.018535416794825232"
      ]
     },
     "execution_count": 55,
     "metadata": {},
     "output_type": "execute_result"
    }
   ],
   "source": [
    "f.corr(d)"
   ]
  },
  {
   "cell_type": "code",
   "execution_count": 54,
   "metadata": {},
   "outputs": [
    {
     "data": {
      "text/plain": [
       "-0.010033808428853076"
      ]
     },
     "execution_count": 54,
     "metadata": {},
     "output_type": "execute_result"
    }
   ],
   "source": [
    "f.corr(e)"
   ]
  },
  {
   "cell_type": "code",
   "execution_count": 53,
   "metadata": {},
   "outputs": [
    {
     "data": {
      "text/plain": [
       "0.011007403299165119"
      ]
     },
     "execution_count": 53,
     "metadata": {},
     "output_type": "execute_result"
    }
   ],
   "source": [
    "f.corr(g)"
   ]
  },
  {
   "cell_type": "code",
   "execution_count": 52,
   "metadata": {},
   "outputs": [
    {
     "data": {
      "text/plain": [
       "-0.00043721044397039967"
      ]
     },
     "execution_count": 52,
     "metadata": {},
     "output_type": "execute_result"
    }
   ],
   "source": [
    "f.corr(h)"
   ]
  },
  {
   "cell_type": "markdown",
   "metadata": {},
   "source": [
    "# Question Nine"
   ]
  },
  {
   "cell_type": "code",
   "execution_count": null,
   "metadata": {},
   "outputs": [],
   "source": [
    "hamoye[[\"report_year\",\"fuel_cost_per_unit_burned\"]]"
   ]
  },
  {
   "cell_type": "markdown",
   "metadata": {},
   "source": [
    "# Question Ten"
   ]
  },
  {
   "cell_type": "code",
   "execution_count": 34,
   "metadata": {},
   "outputs": [
    {
     "data": {
      "text/html": [
       "<div>\n",
       "<style scoped>\n",
       "    .dataframe tbody tr th:only-of-type {\n",
       "        vertical-align: middle;\n",
       "    }\n",
       "\n",
       "    .dataframe tbody tr th {\n",
       "        vertical-align: top;\n",
       "    }\n",
       "\n",
       "    .dataframe thead th {\n",
       "        text-align: right;\n",
       "    }\n",
       "</style>\n",
       "<table border=\"1\" class=\"dataframe\">\n",
       "  <thead>\n",
       "    <tr style=\"text-align: right;\">\n",
       "      <th></th>\n",
       "      <th>fuel_cost_per_unit_delivered</th>\n",
       "    </tr>\n",
       "    <tr>\n",
       "      <th>report_year</th>\n",
       "      <th></th>\n",
       "    </tr>\n",
       "  </thead>\n",
       "  <tbody>\n",
       "    <tr>\n",
       "      <th>1997</th>\n",
       "      <td>11140.197239</td>\n",
       "    </tr>\n",
       "    <tr>\n",
       "      <th>1996</th>\n",
       "      <td>9196.705948</td>\n",
       "    </tr>\n",
       "    <tr>\n",
       "      <th>2000</th>\n",
       "      <td>985.362877</td>\n",
       "    </tr>\n",
       "    <tr>\n",
       "      <th>2009</th>\n",
       "      <td>652.694163</td>\n",
       "    </tr>\n",
       "    <tr>\n",
       "      <th>2018</th>\n",
       "      <td>499.269966</td>\n",
       "    </tr>\n",
       "    <tr>\n",
       "      <th>2015</th>\n",
       "      <td>326.535511</td>\n",
       "    </tr>\n",
       "    <tr>\n",
       "      <th>1998</th>\n",
       "      <td>287.154420</td>\n",
       "    </tr>\n",
       "    <tr>\n",
       "      <th>2014</th>\n",
       "      <td>192.737183</td>\n",
       "    </tr>\n",
       "    <tr>\n",
       "      <th>2013</th>\n",
       "      <td>172.307591</td>\n",
       "    </tr>\n",
       "    <tr>\n",
       "      <th>2004</th>\n",
       "      <td>139.524275</td>\n",
       "    </tr>\n",
       "    <tr>\n",
       "      <th>2016</th>\n",
       "      <td>103.901761</td>\n",
       "    </tr>\n",
       "    <tr>\n",
       "      <th>2010</th>\n",
       "      <td>91.862105</td>\n",
       "    </tr>\n",
       "    <tr>\n",
       "      <th>1994</th>\n",
       "      <td>63.636060</td>\n",
       "    </tr>\n",
       "    <tr>\n",
       "      <th>2012</th>\n",
       "      <td>60.994502</td>\n",
       "    </tr>\n",
       "    <tr>\n",
       "      <th>2001</th>\n",
       "      <td>60.050396</td>\n",
       "    </tr>\n",
       "    <tr>\n",
       "      <th>2011</th>\n",
       "      <td>59.774667</td>\n",
       "    </tr>\n",
       "    <tr>\n",
       "      <th>2008</th>\n",
       "      <td>58.588197</td>\n",
       "    </tr>\n",
       "    <tr>\n",
       "      <th>2003</th>\n",
       "      <td>55.663493</td>\n",
       "    </tr>\n",
       "    <tr>\n",
       "      <th>2002</th>\n",
       "      <td>47.594361</td>\n",
       "    </tr>\n",
       "    <tr>\n",
       "      <th>2017</th>\n",
       "      <td>46.196861</td>\n",
       "    </tr>\n",
       "    <tr>\n",
       "      <th>2007</th>\n",
       "      <td>43.325023</td>\n",
       "    </tr>\n",
       "    <tr>\n",
       "      <th>2005</th>\n",
       "      <td>41.438184</td>\n",
       "    </tr>\n",
       "    <tr>\n",
       "      <th>2006</th>\n",
       "      <td>38.657484</td>\n",
       "    </tr>\n",
       "    <tr>\n",
       "      <th>1995</th>\n",
       "      <td>32.735269</td>\n",
       "    </tr>\n",
       "    <tr>\n",
       "      <th>1999</th>\n",
       "      <td>25.551627</td>\n",
       "    </tr>\n",
       "  </tbody>\n",
       "</table>\n",
       "</div>"
      ],
      "text/plain": [
       "             fuel_cost_per_unit_delivered\n",
       "report_year                              \n",
       "1997                         11140.197239\n",
       "1996                          9196.705948\n",
       "2000                           985.362877\n",
       "2009                           652.694163\n",
       "2018                           499.269966\n",
       "2015                           326.535511\n",
       "1998                           287.154420\n",
       "2014                           192.737183\n",
       "2013                           172.307591\n",
       "2004                           139.524275\n",
       "2016                           103.901761\n",
       "2010                            91.862105\n",
       "1994                            63.636060\n",
       "2012                            60.994502\n",
       "2001                            60.050396\n",
       "2011                            59.774667\n",
       "2008                            58.588197\n",
       "2003                            55.663493\n",
       "2002                            47.594361\n",
       "2017                            46.196861\n",
       "2007                            43.325023\n",
       "2005                            41.438184\n",
       "2006                            38.657484\n",
       "1995                            32.735269\n",
       "1999                            25.551627"
      ]
     },
     "execution_count": 34,
     "metadata": {},
     "output_type": "execute_result"
    }
   ],
   "source": [
    "hamoye[[\"report_year\",\"fuel_cost_per_unit_delivered\"]].groupby(\"report_year\").mean().sort_values(\"fuel_cost_per_unit_delivered\",ascending=False)"
   ]
  },
  {
   "cell_type": "code",
   "execution_count": null,
   "metadata": {},
   "outputs": [],
   "source": []
  }
 ],
 "metadata": {
  "kernelspec": {
   "display_name": "Python 3",
   "language": "python",
   "name": "python3"
  },
  "language_info": {
   "codemirror_mode": {
    "name": "ipython",
    "version": 3
   },
   "file_extension": ".py",
   "mimetype": "text/x-python",
   "name": "python",
   "nbconvert_exporter": "python",
   "pygments_lexer": "ipython3",
   "version": "3.7.6"
  }
 },
 "nbformat": 4,
 "nbformat_minor": 4
}
